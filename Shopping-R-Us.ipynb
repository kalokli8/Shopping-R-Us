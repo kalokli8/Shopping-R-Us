{
 "cells": [
  {
   "cell_type": "code",
   "execution_count": 122,
   "metadata": {},
   "outputs": [
    {
     "data": {
      "text/plain": [
       "\"## Problem Statement\\n\\nShopping-R-Us is starting a computer store. You have been engaged to build\\nthe checkout system. We will start with the following products in our\\ncatalogue\\n\\n| SKU | Name | Price |\\n| --------:| ----------------:| ----------:|\\n| ipd | Super iPad | $549.99 |\\n| mbp | MacBook Pro | $1399.99 |\\n| atv | Apple TV | $109.50 |\\n| vga | VGA adapter | $30.00 |\\nAs we're launching our new computer store, we would like to have a few\\nopening day specials.\\n* We're going to have a 3 for 2 deal on Apple TVs. For example, if you buy\\n3 Apple TVs, you will pay the price of 2 only\\n* The brand new Super iPad will have a bulk discount applied, where the\\nprice will drop to $499.99 each, if someone buys more than 4\\n* We will bundle in a free VGA adapter free of charge with every MacBook\\nPro sold\\nAs our Sales manager is quite indecisive, we want the pricing rules to be\\nas flexible as possible as they can change in the future with little\\nnotice.\\nOur checkout system can scan items in any order.\\nThe interface to our checkout looks like this (shown in java):\\n```java\\nCheckout co = new Checkout(pricingRules);\\nco.scan(item1);\\nco.scan(item2);\\nco.total();\\n```\\nYour task is to implement a checkout system that fulfils the requirements\\ndescribed above.\\nExample scenarios\\n-----------------\\nSKUs Scanned: atv, atv, atv, vga\\nTotal expected: $249.00\\n\\nSKUs Scanned: atv, ipd, ipd, atv, ipd, ipd, ipd\\nTotal expected: $2718.95\\nSKUs Scanned: mbp, vga, ipd\\nTotal expected: $1949.98\\nNotes on implementation:\\n* Use any language you wish\\n* Don't build guis etc, we're more interested in your approach to solving\\nthe given task, not how shiny it looks\\n* Don't worry about making a command line interface to the application\\n* Don't use any frameworks (rails, spring etc), or any external jars/gems\\n(unless it's for testing)\\n* Please upload solution to github/gitlab or zip-up the solution to us in\\nan email.\\n\""
      ]
     },
     "execution_count": 122,
     "metadata": {},
     "output_type": "execute_result"
    }
   ],
   "source": [
    "\"\"\"## Problem Statement\n",
    "\n",
    "Shopping-R-Us is starting a computer store. You have been engaged to build\n",
    "the checkout system. We will start with the following products in our\n",
    "catalogue\n",
    "\n",
    "| SKU | Name | Price |\n",
    "| --------:| ----------------:| ----------:|\n",
    "| ipd | Super iPad | $549.99 |\n",
    "| mbp | MacBook Pro | $1399.99 |\n",
    "| atv | Apple TV | $109.50 |\n",
    "| vga | VGA adapter | $30.00 |\n",
    "As we're launching our new computer store, we would like to have a few\n",
    "opening day specials.\n",
    "* We're going to have a 3 for 2 deal on Apple TVs. For example, if you buy\n",
    "3 Apple TVs, you will pay the price of 2 only\n",
    "* The brand new Super iPad will have a bulk discount applied, where the\n",
    "price will drop to $499.99 each, if someone buys more than 4\n",
    "* We will bundle in a free VGA adapter free of charge with every MacBook\n",
    "Pro sold\n",
    "As our Sales manager is quite indecisive, we want the pricing rules to be\n",
    "as flexible as possible as they can change in the future with little\n",
    "notice.\n",
    "Our checkout system can scan items in any order.\n",
    "The interface to our checkout looks like this (shown in java):\n",
    "```java\n",
    "Checkout co = new Checkout(pricingRules);\n",
    "co.scan(item1);\n",
    "co.scan(item2);\n",
    "co.total();\n",
    "```\n",
    "Your task is to implement a checkout system that fulfils the requirements\n",
    "described above.\n",
    "Example scenarios\n",
    "-----------------\n",
    "SKUs Scanned: atv, atv, atv, vga\n",
    "Total expected: $249.00\n",
    "\n",
    "SKUs Scanned: atv, ipd, ipd, atv, ipd, ipd, ipd\n",
    "Total expected: $2718.95\n",
    "SKUs Scanned: mbp, vga, ipd\n",
    "Total expected: $1949.98\n",
    "Notes on implementation:\n",
    "* Use any language you wish\n",
    "* Don't build guis etc, we're more interested in your approach to solving\n",
    "the given task, not how shiny it looks\n",
    "* Don't worry about making a command line interface to the application\n",
    "* Don't use any frameworks (rails, spring etc), or any external jars/gems\n",
    "(unless it's for testing)\n",
    "* Please upload solution to github/gitlab or zip-up the solution to us in\n",
    "an email.\n",
    "\"\"\"\n"
   ]
  },
  {
   "cell_type": "code",
   "execution_count": 123,
   "metadata": {},
   "outputs": [],
   "source": [
    "# Using python to solve the problem"
   ]
  },
  {
   "cell_type": "code",
   "execution_count": 124,
   "metadata": {},
   "outputs": [],
   "source": [
    "# put all the data in SKU variable in dictionary form\n",
    "SKU =  {\"ipd\": {'Name': 'Super iPad', 'Price': 549.99 },\n",
    "        \"mbp\": {'Name': 'MacBook Pro', 'Price': 1399.99 },\n",
    "        \"atv\": {'Name': 'Apple TV', 'Price': 109.50 },\n",
    "        \"vga\": {'Name': 'VGA adapter', 'Price': 30.00 }}\n"
   ]
  },
  {
   "cell_type": "code",
   "execution_count": 125,
   "metadata": {},
   "outputs": [],
   "source": [
    "#test the dictionary\n",
    "#SKU['ipd']['Name']"
   ]
  },
  {
   "cell_type": "code",
   "execution_count": 126,
   "metadata": {},
   "outputs": [],
   "source": [
    "# It is better not to set pricingRules in parameters because condition in variable is complicated\n",
    "# Edit the  functions in Checkout class if needed to change the pricingRules\n",
    "pricingRules =\"\"\"\"\"\"\n",
    "\n",
    "    "
   ]
  },
  {
   "cell_type": "code",
   "execution_count": 127,
   "metadata": {},
   "outputs": [],
   "source": [
    "class Checkout:\n",
    "    # the only parameter is the item list\n",
    "    def __init__(self, items):\n",
    "        self.pricingRules = pricingRules\n",
    "        self.items = items\n",
    "        \n",
    "    #scan the items bought\n",
    "    def scan(self):\n",
    "        item_list = []\n",
    "        for i in self.items:\n",
    "            item_list.append(i)\n",
    "            # free vga for every mbp\n",
    "            if i == 'mbp':\n",
    "                item_list.append('vga')\n",
    "        print(\"SKUs Scanned: \"+ str(item_list))\n",
    "    \n",
    "    # function to calculate total price\n",
    "    def total(self):\n",
    "        total = 0\n",
    "        atv_num = 0\n",
    "        ipd_num = 0\n",
    "        count = 0\n",
    "        for i in self.items:\n",
    "            # price without any pricing rules \n",
    "            total += SKU[i]['Price']\n",
    "            \n",
    "            # counting number of atv and ipd\n",
    "            if i == 'atv':\n",
    "                atv_num +=1\n",
    "            if i == 'ipd':\n",
    "                ipd_num +=1\n",
    "            \n",
    "            # 3 for 2 on Apple TV\n",
    "            if atv_num % 3 == 0 and atv_num != 0 and i == 'atv':\n",
    "                total -= 109.50\n",
    "                \n",
    "            # ipd dropped to 499.99 each if someone buys more than 4\n",
    "            \n",
    "            if ipd_num > 4 and count == 0:\n",
    "                total -= 200.00\n",
    "                count += 1\n",
    "            if ipd_num > 4 and i == 'ipd':\n",
    "                total -= 50.00\n",
    "           \n",
    "        print(\"Total expected: $\" + '{0:.2f}'.format(total))\n",
    "    \n",
    "    \n",
    "    \n"
   ]
  },
  {
   "cell_type": "code",
   "execution_count": 128,
   "metadata": {},
   "outputs": [
    {
     "name": "stdout",
     "output_type": "stream",
     "text": [
      "SKUs Scanned: ['atv', 'atv', 'atv', 'vga']\n",
      "Total expected: $249.00\n"
     ]
    }
   ],
   "source": [
    "#Example scenarios x3\n",
    "# initiate the items\n",
    "items = ['atv', 'atv', 'atv', 'vga']\n",
    "# create object \n",
    "co = Checkout(items)\n",
    "co.scan()\n",
    "co.total()"
   ]
  },
  {
   "cell_type": "code",
   "execution_count": 129,
   "metadata": {},
   "outputs": [
    {
     "name": "stdout",
     "output_type": "stream",
     "text": [
      "SKUs Scanned: ['atv', 'ipd', 'ipd', 'atv', 'ipd', 'ipd', 'ipd']\n",
      "Total expected: $2718.95\n"
     ]
    }
   ],
   "source": [
    "# initiate the items\n",
    "items = ['atv', 'ipd', 'ipd',  'atv', 'ipd', 'ipd', 'ipd']\n",
    "# create object \n",
    "co = Checkout(items)\n",
    "co.scan()\n",
    "co.total()"
   ]
  },
  {
   "cell_type": "code",
   "execution_count": 130,
   "metadata": {},
   "outputs": [
    {
     "name": "stdout",
     "output_type": "stream",
     "text": [
      "SKUs Scanned: ['mbp', 'vga', 'ipd']\n",
      "Total expected: $1949.98\n"
     ]
    }
   ],
   "source": [
    "# initiate the items\n",
    "items = ['mbp',  'ipd']\n",
    "# create object \n",
    "co = Checkout(items)\n",
    "co.scan()\n",
    "co.total()"
   ]
  }
 ],
 "metadata": {
  "kernelspec": {
   "display_name": "Python 3",
   "language": "python",
   "name": "python3"
  },
  "language_info": {
   "codemirror_mode": {
    "name": "ipython",
    "version": 3
   },
   "file_extension": ".py",
   "mimetype": "text/x-python",
   "name": "python",
   "nbconvert_exporter": "python",
   "pygments_lexer": "ipython3",
   "version": "3.7.5"
  }
 },
 "nbformat": 4,
 "nbformat_minor": 2
}
